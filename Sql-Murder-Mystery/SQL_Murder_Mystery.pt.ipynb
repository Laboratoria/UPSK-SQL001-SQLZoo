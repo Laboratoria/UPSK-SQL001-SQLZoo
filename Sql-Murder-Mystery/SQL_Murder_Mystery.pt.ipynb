{
  "cells": [
    {
      "cell_type": "markdown",
      "metadata": {
        "id": "view-in-github",
        "colab_type": "text"
      },
      "source": [
        "<a href=\"https://colab.research.google.com/github/icarito/UPSK-SQL001-SQLZoo-murder/blob/sql-murder/Sql-Murder-Mystery/SQL_Murder_Mystery.pt.ipynb\" target=\"_parent\"><img src=\"https://colab.research.google.com/assets/colab-badge.svg\" alt=\"Open In Colab\"/></a>"
      ]
    },
    {
      "cell_type": "markdown",
      "metadata": {
        "id": "ZbLp7m-_OzAR"
      },
      "source": [
        "# SQL Murder Mystery!\n",
        "Adapted By: Martin Arroyo\n",
        "\n",
        "![Detective making connections between points](https://github.com/freestackinitiative/coop_sql_notebooks/blob/main/assets/sleuth.png?raw=1)\n",
        "\n",
        "**Credit**\n",
        "\n",
        "This material was adapted from the [SQL Murder Mystery by Knight Lab](https://mystery.knightlab.com/) under [Creative Commons CC BY-SA 4.0](https://creativecommons.org/licenses/by-sa/4.0/). The SQL Murder Mystery was originally created by [Joon Park](https://twitter.com/joonparkmusic) and [Cathy He](https://twitter.com/Cathy_MeiyingHe) while they were Knight Lab fellows. See the [GitHub repository](https://github.com/NUKnightLab/sql-mysteries) for more information."
      ]
    },
    {
      "cell_type": "markdown",
      "metadata": {
        "id": "HGOgX8grOzAV"
      },
      "source": [
        "## Cenário\n",
        "\n",
        "Um crime foi cometido e os detetives precisam da sua ajuda! Eles te deram o relatório da cena do crime, mas de alguma forma você o perdeu. Você lembra vagamente que o crime foi um assassinato (murder) que ocorreu em algum momento no dia 15 de janeiro de 2018 e que aconteceu em SQL City. Depende de você descobrir quem é o assassino usando apenas suas habilidades em SQL e sua inteligência. Eles te fornecem uma conexão ao banco de dados do Departamento de Polícia, que tem todas as pistas que você precisará para pegar o assassino.\n",
        "\n",
        "Use as habilidades que você desenvolveu em SQL 101 e 102, junto com qualquer recurso que desejar, para resolver o Mistério do Assassinato em SQL!"
      ]
    },
    {
      "cell_type": "markdown",
      "metadata": {
        "id": "tcgs_qpWOzAX"
      },
      "source": [
        "## Descobrindo tabelas no banco de dados\n",
        "\n",
        "Começamos nossa busca para encontrar o assassino explorando o banco de dados do Departamento de Polícia. Mas você ainda não viu o banco de dados e não sabe quais são as tabelas, então, como sabe o que procurar?\n",
        "\n",
        "Felizmente, a maioria dos sistemas de gerenciamento de bancos de dados relacionais tem essa informação armazenada em um lugar onde você pode consultá-la. Muito frequentemente, é usado um esquema especial conhecido como [`information_schema`](https://en.wikipedia.org/wiki/Information_schema) para armazenar informações sobre as tabelas e colunas no seu banco de dados (também conhecido como metadata). O banco de dados do Departamento de Polícia tem um information schema, com a visão `tables` que mostra quais tabelas estão disponíveis, e a visão `columns` que mostra todas as colunas de cada tabela e seus tipos de dados."
      ]
    },
    {
      "cell_type": "markdown",
      "metadata": {
        "id": "vuIkw8FgOzAW"
      },
      "source": [
        "## Conecte-se ao banco de dados do Departamento de Polícia\n",
        "\n",
        "Para começar e executar suas consultas, pressione play na célula abaixo para se conectar ao banco de dados do Departamento de Polícia.\n",
        "\n",
        "Para executar consultas, crie uma nova célula de `Código` e escreva `%%sql` na parte superior. Depois, você pode escrever suas consultas abaixo. Veja o exemplo abaixo:\n",
        "```python\n",
        "%%sql\n",
        "\n",
        "SELECT *\n",
        "FROM table\n",
        "```"
      ]
    },
    {
      "cell_type": "code",
      "execution_count": null,
      "metadata": {
        "id": "1rDnqg9TOzAW"
      },
      "outputs": [],
      "source": [
        "%%capture\n",
        "# @title Press Play { display-mode: \"form\" }\n",
        "# Install `teachdb` and `coop_grader`\n",
        "print(\"Installing `teachdb` and its dependencies...\")\n",
        "!pip install --quiet --upgrade git+https://github.com/freestackinitiative/teachingdb.git git+https://github.com/martinmarroyo/coop_grader.git\n",
        "print(\"Successfully installed `teachdb`\")\n",
        "import pandas as pd\n",
        "from teachdb.teachdb import connect_teachdb\n",
        "from coop_grader.sql_murder_mystery.check_suspect import check_suspect\n",
        "# Set configurations for notebook\n",
        "%load_ext sql\n",
        "%config SqlMagic.autopandas = True\n",
        "%config SqlMagic.feedback = False\n",
        "%config SqlMagic.displaycon = False\n",
        "pd.set_option('display.max_rows', None)\n",
        "pd.set_option('display.max_columns', None)\n",
        "pd.set_option('display.width', None)\n",
        "pd.set_option('display.max_colwidth', 99)\n",
        "# Load data\n",
        "con = connect_teachdb(database=\"sql_murder_mystery\")\n",
        "\n",
        "%sql con"
      ]
    },
    {
      "cell_type": "markdown",
      "metadata": {
        "id": "3E1X2M3uOzAX"
      },
      "source": [
        "### Listando todas as tabelas no banco de dados da Polícia\n",
        "\n",
        "#### Revise a [descrição de `information_schema.tables`](https://duckdb.org/docs/sql/information_schema.html#tables-and-views)\n",
        "\n",
        "Primeiro, veremos todas as tabelas disponíveis para nós consultando a visão `information_schema.tables`. Vamos te dar a primeira consulta para começar, mas daqui em diante você terá que criar as consultas restantes usando seu conhecimento de SQL e sua inteligência.\n",
        "\n",
        "Aqui está a consulta necessária para mostrar as tabelas no banco de dados do Departamento de Polícia. Copie/Cole na célula abaixo e execute para ver as tabelas disponíveis para você:\n",
        "\n",
        ">```sql\n",
        ">SELECT *\n",
        ">FROM information_schema.tables\n",
        ">```"
      ]
    },
    {
      "cell_type": "code",
      "execution_count": null,
      "metadata": {
        "id": "pIkeU5liOzAY",
        "outputId": "cd7ebea7-0a7e-49a8-d25b-46cb924cf8f6"
      },
      "outputs": [
        {
          "data": {
            "text/html": [
              "<div>\n",
              "<style scoped>\n",
              "    .dataframe tbody tr th:only-of-type {\n",
              "        vertical-align: middle;\n",
              "    }\n",
              "\n",
              "    .dataframe tbody tr th {\n",
              "        vertical-align: top;\n",
              "    }\n",
              "\n",
              "    .dataframe thead th {\n",
              "        text-align: right;\n",
              "    }\n",
              "</style>\n",
              "<table border=\"1\" class=\"dataframe\">\n",
              "  <thead>\n",
              "    <tr style=\"text-align: right;\">\n",
              "      <th></th>\n",
              "      <th>table_catalog</th>\n",
              "      <th>table_schema</th>\n",
              "      <th>table_name</th>\n",
              "      <th>table_type</th>\n",
              "      <th>self_referencing_column_name</th>\n",
              "      <th>reference_generation</th>\n",
              "      <th>user_defined_type_catalog</th>\n",
              "      <th>user_defined_type_schema</th>\n",
              "      <th>user_defined_type_name</th>\n",
              "      <th>is_insertable_into</th>\n",
              "      <th>is_typed</th>\n",
              "      <th>commit_action</th>\n",
              "      <th>TABLE_COMMENT</th>\n",
              "    </tr>\n",
              "  </thead>\n",
              "  <tbody>\n",
              "    <tr>\n",
              "      <th>0</th>\n",
              "      <td>memory</td>\n",
              "      <td>main</td>\n",
              "      <td>crime_scene_report</td>\n",
              "      <td>BASE TABLE</td>\n",
              "      <td>None</td>\n",
              "      <td>None</td>\n",
              "      <td>None</td>\n",
              "      <td>None</td>\n",
              "      <td>None</td>\n",
              "      <td>YES</td>\n",
              "      <td>NO</td>\n",
              "      <td>None</td>\n",
              "      <td>None</td>\n",
              "    </tr>\n",
              "    <tr>\n",
              "      <th>1</th>\n",
              "      <td>memory</td>\n",
              "      <td>main</td>\n",
              "      <td>drivers_license</td>\n",
              "      <td>BASE TABLE</td>\n",
              "      <td>None</td>\n",
              "      <td>None</td>\n",
              "      <td>None</td>\n",
              "      <td>None</td>\n",
              "      <td>None</td>\n",
              "      <td>YES</td>\n",
              "      <td>NO</td>\n",
              "      <td>None</td>\n",
              "      <td>None</td>\n",
              "    </tr>\n",
              "    <tr>\n",
              "      <th>2</th>\n",
              "      <td>memory</td>\n",
              "      <td>main</td>\n",
              "      <td>facebook_event_checkin</td>\n",
              "      <td>BASE TABLE</td>\n",
              "      <td>None</td>\n",
              "      <td>None</td>\n",
              "      <td>None</td>\n",
              "      <td>None</td>\n",
              "      <td>None</td>\n",
              "      <td>YES</td>\n",
              "      <td>NO</td>\n",
              "      <td>None</td>\n",
              "      <td>None</td>\n",
              "    </tr>\n",
              "    <tr>\n",
              "      <th>3</th>\n",
              "      <td>memory</td>\n",
              "      <td>main</td>\n",
              "      <td>get_fit_now_check_in</td>\n",
              "      <td>BASE TABLE</td>\n",
              "      <td>None</td>\n",
              "      <td>None</td>\n",
              "      <td>None</td>\n",
              "      <td>None</td>\n",
              "      <td>None</td>\n",
              "      <td>YES</td>\n",
              "      <td>NO</td>\n",
              "      <td>None</td>\n",
              "      <td>None</td>\n",
              "    </tr>\n",
              "    <tr>\n",
              "      <th>4</th>\n",
              "      <td>memory</td>\n",
              "      <td>main</td>\n",
              "      <td>get_fit_now_member</td>\n",
              "      <td>BASE TABLE</td>\n",
              "      <td>None</td>\n",
              "      <td>None</td>\n",
              "      <td>None</td>\n",
              "      <td>None</td>\n",
              "      <td>None</td>\n",
              "      <td>YES</td>\n",
              "      <td>NO</td>\n",
              "      <td>None</td>\n",
              "      <td>None</td>\n",
              "    </tr>\n",
              "    <tr>\n",
              "      <th>5</th>\n",
              "      <td>memory</td>\n",
              "      <td>main</td>\n",
              "      <td>income</td>\n",
              "      <td>BASE TABLE</td>\n",
              "      <td>None</td>\n",
              "      <td>None</td>\n",
              "      <td>None</td>\n",
              "      <td>None</td>\n",
              "      <td>None</td>\n",
              "      <td>YES</td>\n",
              "      <td>NO</td>\n",
              "      <td>None</td>\n",
              "      <td>None</td>\n",
              "    </tr>\n",
              "    <tr>\n",
              "      <th>6</th>\n",
              "      <td>memory</td>\n",
              "      <td>main</td>\n",
              "      <td>interview</td>\n",
              "      <td>BASE TABLE</td>\n",
              "      <td>None</td>\n",
              "      <td>None</td>\n",
              "      <td>None</td>\n",
              "      <td>None</td>\n",
              "      <td>None</td>\n",
              "      <td>YES</td>\n",
              "      <td>NO</td>\n",
              "      <td>None</td>\n",
              "      <td>None</td>\n",
              "    </tr>\n",
              "    <tr>\n",
              "      <th>7</th>\n",
              "      <td>memory</td>\n",
              "      <td>main</td>\n",
              "      <td>person</td>\n",
              "      <td>BASE TABLE</td>\n",
              "      <td>None</td>\n",
              "      <td>None</td>\n",
              "      <td>None</td>\n",
              "      <td>None</td>\n",
              "      <td>None</td>\n",
              "      <td>YES</td>\n",
              "      <td>NO</td>\n",
              "      <td>None</td>\n",
              "      <td>None</td>\n",
              "    </tr>\n",
              "  </tbody>\n",
              "</table>\n",
              "</div>"
            ],
            "text/plain": [
              "  table_catalog table_schema              table_name  table_type  \\\n",
              "0        memory         main      crime_scene_report  BASE TABLE   \n",
              "1        memory         main         drivers_license  BASE TABLE   \n",
              "2        memory         main  facebook_event_checkin  BASE TABLE   \n",
              "3        memory         main    get_fit_now_check_in  BASE TABLE   \n",
              "4        memory         main      get_fit_now_member  BASE TABLE   \n",
              "5        memory         main                  income  BASE TABLE   \n",
              "6        memory         main               interview  BASE TABLE   \n",
              "7        memory         main                  person  BASE TABLE   \n",
              "\n",
              "  self_referencing_column_name reference_generation user_defined_type_catalog  \\\n",
              "0                         None                 None                      None   \n",
              "1                         None                 None                      None   \n",
              "2                         None                 None                      None   \n",
              "3                         None                 None                      None   \n",
              "4                         None                 None                      None   \n",
              "5                         None                 None                      None   \n",
              "6                         None                 None                      None   \n",
              "7                         None                 None                      None   \n",
              "\n",
              "  user_defined_type_schema user_defined_type_name is_insertable_into is_typed  \\\n",
              "0                     None                   None                YES       NO   \n",
              "1                     None                   None                YES       NO   \n",
              "2                     None                   None                YES       NO   \n",
              "3                     None                   None                YES       NO   \n",
              "4                     None                   None                YES       NO   \n",
              "5                     None                   None                YES       NO   \n",
              "6                     None                   None                YES       NO   \n",
              "7                     None                   None                YES       NO   \n",
              "\n",
              "  commit_action TABLE_COMMENT  \n",
              "0          None          None  \n",
              "1          None          None  \n",
              "2          None          None  \n",
              "3          None          None  \n",
              "4          None          None  \n",
              "5          None          None  \n",
              "6          None          None  \n",
              "7          None          None  "
            ]
          },
          "execution_count": 5,
          "metadata": {},
          "output_type": "execute_result"
        }
      ],
      "source": [
        "%%sql\n",
        "SELECT *\n",
        "FROM information_schema.tables"
      ]
    },
    {
      "cell_type": "markdown",
      "metadata": {
        "id": "UWUUDSB1OzAY"
      },
      "source": [
        "### Listando todas as tabelas e suas colunas no banco de dados da Polícia\n",
        "\n",
        "**Revise a [descrição de `information_schema.columns`](https://duckdb.org/docs/sql/information_schema.html#columns)**\n",
        "\n",
        "Ótimo! Agora que você sabe quais tabelas estão disponíveis, é hora de descobrir as colunas que cada tabela possui, juntamente com o tipo de dados de cada coluna. Escreva uma consulta que mostre o nome da tabela, o nome da coluna e o tipo de dados para cada tabela no banco de dados do Departamento de Polícia, usando a view `information_schema.columns`. Certifique-se de que a saída esteja ordenada por nome da tabela e, em seguida, por nome da coluna (em ordem ascendente):\n",
        "\n",
        "*Dicas opcionais - tente usá-las apenas se você ficar **REALMENTE** preso!*\n",
        "\n",
        "<details>\n",
        "<summary>Dica 1</summary>\n",
        "<p>Estruture sua consulta da mesma maneira que fizemos na consulta anterior, onde olhamos para `information_schema.tables`</p>\n",
        "</details>\n",
        "\n",
        "<details>\n",
        "<summary>Dica 2</summary>\n",
        "<p>Certifique-se de revisar o link para a descrição de information_schema.columns. Ele lhe dirá os nomes das colunas que você deve usar na consulta. Lembre-se, queremos o nome da tabela, o nome da coluna e o tipo de dados - verifique a descrição para encontrar os nomes apropriados!</p>\n",
        "</details>\n",
        "\n",
        "<details>\n",
        "<summary>Dica 3</summary>\n",
        "<p>Não se esqueça de usar a cláusula ORDER BY para ordenar os resultados da sua pesquisa. Estamos procurando ordenar ambas as colunas em ordem ascendente, o que pode ser especificado usando a palavra-chave ASC, no entanto, essa também é a ordem de classificação padrão, portanto, ASC não é necessariamente obrigatório.</p>\n",
        "</details>"
      ]
    },
    {
      "cell_type": "code",
      "execution_count": null,
      "metadata": {
        "id": "lmmneIBrOzAY"
      },
      "outputs": [],
      "source": [
        "%%sql"
      ]
    },
    {
      "cell_type": "markdown",
      "metadata": {
        "id": "pfF208KjOzAZ"
      },
      "source": [
        "### Diagrama de Relacionamento de Entidades (Opcional)\n",
        "\n",
        "Depois de fazer um pouco de trabalho de detetive e encontrar as tabelas no banco de dados do Departamento de Polícia, você descobre que há um ERD (Diagrama de Relacionamento de Entidades). Isso pode ser realmente útil em sua busca para encontrar o assassino. Se preferir, desafie-se (e suas habilidades em SQL) a continuar consultando o `information_schema` conforme necessário. Caso contrário, você pode clicar no menu suspenso abaixo para revelar o ERD que o ajudará a ver as tabelas e os relacionamentos no banco de dados do Departamento de Polícia em um relance:\n",
        "\n",
        "<details>\n",
        "  <summary>Veja o ERD do SQL Murder Mystery</summary>\n",
        "  <img src=\"https://github.com/freestackinitiative/coop_sql_notebooks/blob/main/assets/murder_mystery_schema.png?raw=1\" alt=\"ERD para o SQL Murder Mystery\"/>\n",
        "</details>"
      ]
    },
    {
      "cell_type": "code",
      "execution_count": null,
      "metadata": {
        "id": "FE2LsH-kOzAZ"
      },
      "outputs": [],
      "source": [
        "%%sql"
      ]
    },
    {
      "cell_type": "markdown",
      "metadata": {
        "id": "MrEIHCo9OzAZ"
      },
      "source": [
        "___"
      ]
    },
    {
      "cell_type": "markdown",
      "metadata": {
        "id": "3BmdFTHbOzAZ"
      },
      "source": [
        "## Resolvendo o Mistério (e verificando se você resolveu o caso)\n",
        "\n",
        "Daqui em diante, você usará suas habilidades e as pistas no banco de dados do Departamento de Polícia para encontrar o assassino. Quando você achar que encontrou o assassino, volte a esta seção e use a célula abaixo para verificar sua resposta e ver se você encontrou o assassino:\n",
        "\n",
        "exemplo:\n",
        "```python\n",
        "check_suspect(\"Adam Levine\")\n",
        "```"
      ]
    },
    {
      "cell_type": "code",
      "execution_count": null,
      "metadata": {
        "id": "_8qZLQ47OzAZ"
      },
      "outputs": [],
      "source": [
        "check_suspect(\"Write the suspected murderer's full name here\")"
      ]
    },
    {
      "cell_type": "markdown",
      "metadata": {
        "id": "GBfSxW1EOzAZ"
      },
      "source": [
        "---"
      ]
    },
    {
      "cell_type": "markdown",
      "metadata": {
        "id": "Sh4HZSncOzAZ"
      },
      "source": [
        "## Área de Trabalho\n",
        "\n",
        "Use as células abaixo para escrever suas consultas e trabalhar na resolução do mistério. Quando você tiver um suspeito, verifique sua resposta usando a [célula acima desta](#resolvendo-o-mistério-e-verificando-se-você-resolveu-o-caso) e execute o nome dele através da função `check_suspect`. Se você encontrar o assassino, a função lhe dirá.\n",
        "\n",
        "Não se esqueça de usar `%%sql` na parte superior das células de `Código` que você criar para que suas consultas SQL funcionem. Boa sorte, detetives!"
      ]
    },
    {
      "cell_type": "code",
      "execution_count": null,
      "metadata": {
        "id": "-n-r--3aOzAZ"
      },
      "outputs": [],
      "source": [
        "%%sql\n"
      ]
    }
  ],
  "metadata": {
    "colab": {
      "provenance": [],
      "include_colab_link": true
    },
    "kernelspec": {
      "display_name": "Python 3 (ipykernel)",
      "language": "python",
      "name": "python3"
    },
    "language_info": {
      "codemirror_mode": {
        "name": "ipython",
        "version": 3
      },
      "file_extension": ".py",
      "mimetype": "text/x-python",
      "name": "python",
      "nbconvert_exporter": "python",
      "pygments_lexer": "ipython3",
      "version": "3.12.3"
    }
  },
  "nbformat": 4,
  "nbformat_minor": 0
}
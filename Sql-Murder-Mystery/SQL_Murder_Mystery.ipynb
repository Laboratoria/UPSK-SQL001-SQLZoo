{
 "cells": [
  {
   "cell_type": "markdown",
   "metadata": {
    "id": "ZbLp7m-_OzAR"
   },
   "source": [
    "# SQL Murder Mystery!\n",
    "Adapted By: Martin Arroyo\n",
    "\n",
    "![Detective making connections between points](https://github.com/freestackinitiative/coop_sql_notebooks/blob/main/assets/sleuth.png?raw=1)\n",
    "\n",
    "**Credit**\n",
    "\n",
    "This material was adapted from the [SQL Murder Mystery by Knight Lab](https://mystery.knightlab.com/) under [Creative Commons CC BY-SA 4.0](https://creativecommons.org/licenses/by-sa/4.0/). The SQL Murder Mystery was originally created by [Joon Park](https://twitter.com/joonparkmusic) and [Cathy He](https://twitter.com/Cathy_MeiyingHe) while they were Knight Lab fellows. See the [GitHub repository](https://github.com/NUKnightLab/sql-mysteries) for more information."
   ]
  },
  {
   "cell_type": "markdown",
   "metadata": {
    "id": "HGOgX8grOzAV"
   },
   "source": [
    "## Scenario\n",
    "\n",
    "A crime has taken place and detectives need your help! You were given the crime scene report, but you somehow lost it. You vaguely remember that the crime was a `​murder`​ that occurred sometime on `​January 15, 2018`​ and that it took place in ​`SQL City`​. It is up to you to find out who the murderer is using just your SQL skills and resourcefulness. You are given a connection to the Police Department's database which has all of the clues you'll need to track down the killer.\n",
    "\n",
    "Use the skills you developed in SQL 101 and 102, along with any resources you like, to solve the `SQL Murder Mystery`!"
   ]
  },
  {
   "cell_type": "markdown",
   "metadata": {
    "id": "vuIkw8FgOzAW"
   },
   "source": [
    "## Connect to the Police Department Database\n",
    "\n",
    "To get started and run your queries, press play in the cell below to connect to the Police Department database.\n",
    "\n",
    "To run queries, create a new `Code` cell and write `%%sql` at the top of it. Then you can write your queries underneath. See the example below:\n",
    "```python\n",
    "%%sql\n",
    "\n",
    "SELECT *\n",
    "FROM table\n",
    "\n",
    "```"
   ]
  },
  {
   "cell_type": "code",
   "execution_count": 1,
   "metadata": {
    "id": "1rDnqg9TOzAW"
   },
   "outputs": [],
   "source": [
    "%%capture\n",
    "# @title Press Play { display-mode: \"form\" }\n",
    "# Install `teachdb` and `coop_grader`\n",
    "print(\"Installing `teachdb` and its dependencies...\")\n",
    "!pip install --quiet --upgrade git+https://github.com/freestackinitiative/teachingdb.git git+https://github.com/martinmarroyo/coop_grader.git\n",
    "print(\"Successfully installed `teachdb`\")\n",
    "import pandas as pd\n",
    "from teachdb.teachdb import connect_teachdb\n",
    "from coop_grader.sql_murder_mystery.check_suspect import check_suspect\n",
    "# Set configurations for notebook\n",
    "%load_ext sql\n",
    "%config SqlMagic.autopandas = True\n",
    "%config SqlMagic.feedback = False\n",
    "%config SqlMagic.displaycon = False\n",
    "pd.set_option('display.max_rows', None)\n",
    "pd.set_option('display.max_columns', None)\n",
    "pd.set_option('display.width', None)\n",
    "pd.set_option('display.max_colwidth', 99)\n",
    "# Load data\n",
    "con = connect_teachdb(database=\"sql_murder_mystery\")\n",
    "\n",
    "%sql con"
   ]
  },
  {
   "cell_type": "markdown",
   "metadata": {
    "id": "tcgs_qpWOzAX"
   },
   "source": [
    "## Discovering tables in the database\n",
    "\n",
    "We start our quest to find the murderer by exploring the Police Department database. But you haven't seen the database yet, and you don't know what the tables are, so how do you know what to look for?\n",
    "\n",
    "Thankfully, most relational database management systems have this information stored in a place where you can query it. Very often, a special schema known as the [`information_schema`](https://en.wikipedia.org/wiki/Information_schema) is used to store information about the tables and columns in your database (aka metadata.) The police department's database has an information schema, with the `tables` view showing you what tables are available, and the `columns` view which shows you all the columns for each table and their data types."
   ]
  },
  {
   "cell_type": "markdown",
   "metadata": {
    "id": "3E1X2M3uOzAX"
   },
   "source": [
    "### Listing all the tables in the Police Database\n",
    "\n",
    "#### Check the [`information_schema.tables` description](https://duckdb.org/docs/sql/information_schema.html#tables-and-views)\n",
    "\n",
    "First, we'll look at all the tables available to us by checking the `information_schema.tables` view. We'll give you the first query to start, but from here on out you will have to come up with the remaining queries using your SQL knowledge and your resourcefulness.\n",
    "\n",
    "Here is the query that is needed to show you the tables in the Police Department Database. Copy/Paste it into the cell below and run it to see the tables available to you:\n",
    "\n",
    ">```sql\n",
    ">SELECT *\n",
    ">FROM information_schema.tables\n",
    ">```"
   ]
  },
  {
   "cell_type": "code",
   "execution_count": 2,
   "metadata": {
    "id": "pIkeU5liOzAY"
   },
   "outputs": [
    {
     "data": {
      "text/html": [
       "<div>\n",
       "<style scoped>\n",
       "    .dataframe tbody tr th:only-of-type {\n",
       "        vertical-align: middle;\n",
       "    }\n",
       "\n",
       "    .dataframe tbody tr th {\n",
       "        vertical-align: top;\n",
       "    }\n",
       "\n",
       "    .dataframe thead th {\n",
       "        text-align: right;\n",
       "    }\n",
       "</style>\n",
       "<table border=\"1\" class=\"dataframe\">\n",
       "  <thead>\n",
       "    <tr style=\"text-align: right;\">\n",
       "      <th></th>\n",
       "      <th>table_catalog</th>\n",
       "      <th>table_schema</th>\n",
       "      <th>table_name</th>\n",
       "      <th>table_type</th>\n",
       "      <th>self_referencing_column_name</th>\n",
       "      <th>reference_generation</th>\n",
       "      <th>user_defined_type_catalog</th>\n",
       "      <th>user_defined_type_schema</th>\n",
       "      <th>user_defined_type_name</th>\n",
       "      <th>is_insertable_into</th>\n",
       "      <th>is_typed</th>\n",
       "      <th>commit_action</th>\n",
       "      <th>TABLE_COMMENT</th>\n",
       "    </tr>\n",
       "  </thead>\n",
       "  <tbody>\n",
       "    <tr>\n",
       "      <th>0</th>\n",
       "      <td>memory</td>\n",
       "      <td>main</td>\n",
       "      <td>crime_scene_report</td>\n",
       "      <td>BASE TABLE</td>\n",
       "      <td>None</td>\n",
       "      <td>None</td>\n",
       "      <td>None</td>\n",
       "      <td>None</td>\n",
       "      <td>None</td>\n",
       "      <td>YES</td>\n",
       "      <td>NO</td>\n",
       "      <td>None</td>\n",
       "      <td>None</td>\n",
       "    </tr>\n",
       "    <tr>\n",
       "      <th>1</th>\n",
       "      <td>memory</td>\n",
       "      <td>main</td>\n",
       "      <td>drivers_license</td>\n",
       "      <td>BASE TABLE</td>\n",
       "      <td>None</td>\n",
       "      <td>None</td>\n",
       "      <td>None</td>\n",
       "      <td>None</td>\n",
       "      <td>None</td>\n",
       "      <td>YES</td>\n",
       "      <td>NO</td>\n",
       "      <td>None</td>\n",
       "      <td>None</td>\n",
       "    </tr>\n",
       "    <tr>\n",
       "      <th>2</th>\n",
       "      <td>memory</td>\n",
       "      <td>main</td>\n",
       "      <td>facebook_event_checkin</td>\n",
       "      <td>BASE TABLE</td>\n",
       "      <td>None</td>\n",
       "      <td>None</td>\n",
       "      <td>None</td>\n",
       "      <td>None</td>\n",
       "      <td>None</td>\n",
       "      <td>YES</td>\n",
       "      <td>NO</td>\n",
       "      <td>None</td>\n",
       "      <td>None</td>\n",
       "    </tr>\n",
       "    <tr>\n",
       "      <th>3</th>\n",
       "      <td>memory</td>\n",
       "      <td>main</td>\n",
       "      <td>get_fit_now_check_in</td>\n",
       "      <td>BASE TABLE</td>\n",
       "      <td>None</td>\n",
       "      <td>None</td>\n",
       "      <td>None</td>\n",
       "      <td>None</td>\n",
       "      <td>None</td>\n",
       "      <td>YES</td>\n",
       "      <td>NO</td>\n",
       "      <td>None</td>\n",
       "      <td>None</td>\n",
       "    </tr>\n",
       "    <tr>\n",
       "      <th>4</th>\n",
       "      <td>memory</td>\n",
       "      <td>main</td>\n",
       "      <td>get_fit_now_member</td>\n",
       "      <td>BASE TABLE</td>\n",
       "      <td>None</td>\n",
       "      <td>None</td>\n",
       "      <td>None</td>\n",
       "      <td>None</td>\n",
       "      <td>None</td>\n",
       "      <td>YES</td>\n",
       "      <td>NO</td>\n",
       "      <td>None</td>\n",
       "      <td>None</td>\n",
       "    </tr>\n",
       "    <tr>\n",
       "      <th>5</th>\n",
       "      <td>memory</td>\n",
       "      <td>main</td>\n",
       "      <td>income</td>\n",
       "      <td>BASE TABLE</td>\n",
       "      <td>None</td>\n",
       "      <td>None</td>\n",
       "      <td>None</td>\n",
       "      <td>None</td>\n",
       "      <td>None</td>\n",
       "      <td>YES</td>\n",
       "      <td>NO</td>\n",
       "      <td>None</td>\n",
       "      <td>None</td>\n",
       "    </tr>\n",
       "    <tr>\n",
       "      <th>6</th>\n",
       "      <td>memory</td>\n",
       "      <td>main</td>\n",
       "      <td>interview</td>\n",
       "      <td>BASE TABLE</td>\n",
       "      <td>None</td>\n",
       "      <td>None</td>\n",
       "      <td>None</td>\n",
       "      <td>None</td>\n",
       "      <td>None</td>\n",
       "      <td>YES</td>\n",
       "      <td>NO</td>\n",
       "      <td>None</td>\n",
       "      <td>None</td>\n",
       "    </tr>\n",
       "    <tr>\n",
       "      <th>7</th>\n",
       "      <td>memory</td>\n",
       "      <td>main</td>\n",
       "      <td>person</td>\n",
       "      <td>BASE TABLE</td>\n",
       "      <td>None</td>\n",
       "      <td>None</td>\n",
       "      <td>None</td>\n",
       "      <td>None</td>\n",
       "      <td>None</td>\n",
       "      <td>YES</td>\n",
       "      <td>NO</td>\n",
       "      <td>None</td>\n",
       "      <td>None</td>\n",
       "    </tr>\n",
       "  </tbody>\n",
       "</table>\n",
       "</div>"
      ],
      "text/plain": [
       "  table_catalog table_schema              table_name  table_type  \\\n",
       "0        memory         main      crime_scene_report  BASE TABLE   \n",
       "1        memory         main         drivers_license  BASE TABLE   \n",
       "2        memory         main  facebook_event_checkin  BASE TABLE   \n",
       "3        memory         main    get_fit_now_check_in  BASE TABLE   \n",
       "4        memory         main      get_fit_now_member  BASE TABLE   \n",
       "5        memory         main                  income  BASE TABLE   \n",
       "6        memory         main               interview  BASE TABLE   \n",
       "7        memory         main                  person  BASE TABLE   \n",
       "\n",
       "  self_referencing_column_name reference_generation user_defined_type_catalog  \\\n",
       "0                         None                 None                      None   \n",
       "1                         None                 None                      None   \n",
       "2                         None                 None                      None   \n",
       "3                         None                 None                      None   \n",
       "4                         None                 None                      None   \n",
       "5                         None                 None                      None   \n",
       "6                         None                 None                      None   \n",
       "7                         None                 None                      None   \n",
       "\n",
       "  user_defined_type_schema user_defined_type_name is_insertable_into is_typed  \\\n",
       "0                     None                   None                YES       NO   \n",
       "1                     None                   None                YES       NO   \n",
       "2                     None                   None                YES       NO   \n",
       "3                     None                   None                YES       NO   \n",
       "4                     None                   None                YES       NO   \n",
       "5                     None                   None                YES       NO   \n",
       "6                     None                   None                YES       NO   \n",
       "7                     None                   None                YES       NO   \n",
       "\n",
       "  commit_action TABLE_COMMENT  \n",
       "0          None          None  \n",
       "1          None          None  \n",
       "2          None          None  \n",
       "3          None          None  \n",
       "4          None          None  \n",
       "5          None          None  \n",
       "6          None          None  \n",
       "7          None          None  "
      ]
     },
     "execution_count": 2,
     "metadata": {},
     "output_type": "execute_result"
    }
   ],
   "source": [
    "%%sql\n",
    "SELECT *\n",
    "FROM information_schema.tables"
   ]
  },
  {
   "cell_type": "markdown",
   "metadata": {
    "id": "UWUUDSB1OzAY"
   },
   "source": [
    "### Listing all the tables and their columns in the Police Database\n",
    "\n",
    "**Check the [`information_schema.columns` description](https://duckdb.org/docs/sql/information_schema.html#columns)**\n",
    "\n",
    "Great! Now that you know what tables are available, it's time to find out the columns that each table has along with the data type of each column. Write a query that shows the table name, column name, and data type for each table in the Police Department database using the `information_schema.columns` view. Make sure that the output is ordered by table, then column name (ascending):\n",
    "\n",
    "*Optional hints - try to only use them if you get **REALLY** stuck!*\n",
    "\n",
    "<details>\n",
    "<summary>Hint 1</summary>\n",
    "<p>Structure your query just like we did in the previous one where we looked at `information_schema.tables`</p>\n",
    "</details>\n",
    "\n",
    "<details>\n",
    "<summary>Hint 2</summary>\n",
    "<p>Make sure to check the link for the information_schema.columns description! It will tell you the column names that you should use for the query. Remember, we want the table name, column name, and data type - check the description to find the appropriate names!</p>\n",
    "</details>\n",
    "\n",
    "<details>\n",
    "<summary>Hint 3</summary>\n",
    "<p>Don't forget to use the ORDER BY statement to order your search results. We are looking to sort both columns in ascending order, which can be specified using the ASC keyword, however, it is also the default sort order, so ASC is not necessarily required.</p>\n",
    "</details>"
   ]
  },
  {
   "cell_type": "code",
   "execution_count": 3,
   "metadata": {
    "id": "lmmneIBrOzAY"
   },
   "outputs": [
    {
     "name": "stderr",
     "output_type": "stream",
     "text": [
      "UsageError: %%sql is a cell magic, but the cell body is empty. Did you mean the line magic %sql (single %)?\n"
     ]
    }
   ],
   "source": [
    "%%sql"
   ]
  },
  {
   "cell_type": "markdown",
   "metadata": {
    "id": "3ToOJR4tOzAZ",
    "jp-MarkdownHeadingCollapsed": true
   },
   "source": [
    "### Entity Relationship Diagram (Optional)\n",
    "\n",
    "After doing some detective work and finding the tables in the Police Department database, you discover that there is an ERD! This can be really helpful in your quest to find the murderer. If you like, challenge yourself (and your SQL skills) to continue on by just querying the `information_schema` as needed. Otherwise, you can click the dropdown below to reveal the ERD to help you see the tables and relationships in the Police Department database at a glance:\n",
    "\n",
    "<details>\n",
    "  <summary>Check the SQL Murder Mystery ERD</summary>\n",
    "  <img src=\"https://github.com/freestackinitiative/coop_sql_notebooks/blob/main/assets/murder_mystery_schema.png?raw=1\" alt=\"ERD for SQL Murder Mystery\"/>\n",
    "</details>"
   ]
  },
  {
   "cell_type": "markdown",
   "metadata": {
    "id": "pfF208KjOzAZ"
   },
   "source": [
    "## Beginning your investigation\n",
    "\n",
    "Start by retrieving the corresponding crime scene report from the police department’s database.\n",
    "\n",
    "<details>\n",
    "<summary>Clue #1</summary>\n",
    "<p>Look at the tables available in the Police Department database. Could the crime scene report be in there?</p>\n",
    "</details>\n",
    "\n",
    "<details>\n",
    "<summary>Clue #2</summary>\n",
    "<p>The murder occured on January 15, 2018 in SQL City. Perhaps filtering your query with this information can help you find that crime report you're looking for...</p>\n",
    "</details>"
   ]
  },
  {
   "cell_type": "code",
   "execution_count": null,
   "metadata": {
    "id": "FE2LsH-kOzAZ"
   },
   "outputs": [],
   "source": [
    "%%sql"
   ]
  },
  {
   "cell_type": "markdown",
   "metadata": {
    "id": "MrEIHCo9OzAZ"
   },
   "source": [
    "___"
   ]
  },
  {
   "cell_type": "markdown",
   "metadata": {
    "id": "3BmdFTHbOzAZ"
   },
   "source": [
    "## Solving the Mystery (and checking if you cracked the case!)\n",
    "\n",
    "From here on out, you'll be using your skills and the clues in the Police Department database to find the killer. When you think you have found the killer, come back to this section and use the cell below to check your answer and see if you found the murderer:\n",
    "\n",
    "ex:\n",
    "```python\n",
    "check_suspect(\"Adam Levine\")\n",
    "```"
   ]
  },
  {
   "cell_type": "code",
   "execution_count": null,
   "metadata": {
    "id": "_8qZLQ47OzAZ"
   },
   "outputs": [],
   "source": [
    "check_suspect(\"Write the suspected murderer's full name here\")"
   ]
  },
  {
   "cell_type": "markdown",
   "metadata": {
    "id": "GBfSxW1EOzAZ"
   },
   "source": [
    "---"
   ]
  },
  {
   "cell_type": "markdown",
   "metadata": {
    "id": "Sh4HZSncOzAZ"
   },
   "source": [
    "## Workspace\n",
    "\n",
    "Use the cells below to write your queries and work on solving the mystery. When you have a suspect, check your answer using the [cell above this one](#solving-the-mystery-and-checking-if-you-cracked-the-case) and running their name through the `check_suspect` function. If you find the murderer, the function will tell you.\n",
    "\n",
    "Don't forget to use `%%sql` at the top of the `Code` cells you create in order to get your SQL queries to work. Good luck, sleuths!"
   ]
  },
  {
   "cell_type": "code",
   "execution_count": null,
   "metadata": {
    "id": "-n-r--3aOzAZ"
   },
   "outputs": [],
   "source": [
    "%%sql\n"
   ]
  }
 ],
 "metadata": {
  "colab": {
   "provenance": [],
   "toc_visible": true
  },
  "kernelspec": {
   "display_name": "Python 3 (ipykernel)",
   "language": "python",
   "name": "python3"
  },
  "language_info": {
   "codemirror_mode": {
    "name": "ipython",
    "version": 3
   },
   "file_extension": ".py",
   "mimetype": "text/x-python",
   "name": "python",
   "nbconvert_exporter": "python",
   "pygments_lexer": "ipython3",
   "version": "3.12.3"
  }
 },
 "nbformat": 4,
 "nbformat_minor": 4
}
